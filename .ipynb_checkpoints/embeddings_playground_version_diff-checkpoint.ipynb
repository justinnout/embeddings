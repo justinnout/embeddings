{
 "cells": [
  {
   "cell_type": "code",
   "execution_count": 1,
   "id": "c9e5157a",
   "metadata": {},
   "outputs": [],
   "source": [
    "import os\n",
    "import requests\n",
    "import sys\n",
    "\n",
    "from bs4 import BeautifulSoup\n",
    "from collections import deque\n",
    "from dotenv import load_dotenv\n",
    "from langchain.embeddings.openai import OpenAIEmbeddings\n",
    "from langchain.document_loaders import DirectoryLoader\n",
    "from langchain.text_splitter import RecursiveCharacterTextSplitter\n",
    "from langchain.vectorstores import FAISS\n",
    "from langchain.document_loaders import TextLoader\n",
    "from langchain.llms import OpenAI\n",
    "from langchain.chains.question_answering import load_qa_chain\n",
    "from urllib.parse import urljoin, urlparse"
   ]
  },
  {
   "cell_type": "code",
   "execution_count": 2,
   "id": "17d46c5f",
   "metadata": {},
   "outputs": [],
   "source": [
    "load_dotenv()\n",
    "assert os.environ[\"OPENAI_API_KEY\"] != \"\""
   ]
  },
  {
   "cell_type": "code",
   "execution_count": 3,
   "id": "914817a7",
   "metadata": {},
   "outputs": [],
   "source": [
    "dependency = \"fastapi\""
   ]
  },
  {
   "cell_type": "code",
   "execution_count": 4,
   "id": "6b0abb3f",
   "metadata": {},
   "outputs": [],
   "source": [
    "version_old = \"0.79.0\""
   ]
  },
  {
   "cell_type": "code",
   "execution_count": 5,
   "id": "b4097b89",
   "metadata": {
    "scrolled": true
   },
   "outputs": [
    {
     "name": "stdout",
     "output_type": "stream",
     "text": [
      "Collecting fastapi==0.79.0\n",
      "  Using cached fastapi-0.79.0-py3-none-any.whl (54 kB)\n",
      "Requirement already satisfied: pydantic!=1.7,!=1.7.1,!=1.7.2,!=1.7.3,!=1.8,!=1.8.1,<2.0.0,>=1.6.2 in /Users/justin/.pyenv/versions/3.8.16/lib/python3.8/site-packages (from fastapi==0.79.0) (1.10.12)\n",
      "Collecting starlette==0.19.1\n",
      "  Using cached starlette-0.19.1-py3-none-any.whl (63 kB)\n",
      "Requirement already satisfied: typing-extensions>=3.10.0 in /Users/justin/.pyenv/versions/3.8.16/lib/python3.8/site-packages (from starlette==0.19.1->fastapi==0.79.0) (4.7.1)\n",
      "Requirement already satisfied: anyio<5,>=3.4.0 in /Users/justin/.pyenv/versions/3.8.16/lib/python3.8/site-packages (from starlette==0.19.1->fastapi==0.79.0) (3.7.1)\n",
      "Requirement already satisfied: idna>=2.8 in /Users/justin/.pyenv/versions/3.8.16/lib/python3.8/site-packages (from anyio<5,>=3.4.0->starlette==0.19.1->fastapi==0.79.0) (3.4)\n",
      "Requirement already satisfied: exceptiongroup in /Users/justin/.pyenv/versions/3.8.16/lib/python3.8/site-packages (from anyio<5,>=3.4.0->starlette==0.19.1->fastapi==0.79.0) (1.1.2)\n",
      "Requirement already satisfied: sniffio>=1.1 in /Users/justin/.pyenv/versions/3.8.16/lib/python3.8/site-packages (from anyio<5,>=3.4.0->starlette==0.19.1->fastapi==0.79.0) (1.3.0)\n",
      "Installing collected packages: starlette, fastapi\n",
      "  Attempting uninstall: starlette\n",
      "    Found existing installation: starlette 0.27.0\n",
      "    Uninstalling starlette-0.27.0:\n",
      "      Successfully uninstalled starlette-0.27.0\n",
      "  Attempting uninstall: fastapi\n",
      "    Found existing installation: fastapi 0.100.0\n",
      "    Uninstalling fastapi-0.100.0:\n",
      "      Successfully uninstalled fastapi-0.100.0\n",
      "Successfully installed fastapi-0.79.0 starlette-0.19.1\n",
      "\u001b[33mWARNING: You are using pip version 22.0.4; however, version 23.2.1 is available.\n",
      "You should consider upgrading via the '/Users/justin/.pyenv/versions/3.8.16/bin/python3.8 -m pip install --upgrade pip' command.\u001b[0m\u001b[33m\n",
      "\u001b[0m"
     ]
    }
   ],
   "source": [
    "!{sys.executable} -m pip install {dependency}=={version_old}"
   ]
  },
  {
   "cell_type": "code",
   "execution_count": 6,
   "id": "b015235e",
   "metadata": {},
   "outputs": [
    {
     "name": "stderr",
     "output_type": "stream",
     "text": [
      "100%|███████████████████████████████████████████████| 42/42 [00:02<00:00, 19.46it/s]\n"
     ]
    }
   ],
   "source": [
    "src = f'/Users/justin/.pyenv/versions/3.8.16/lib/python3.8/site-packages/{dependency}'\n",
    "loader = DirectoryLoader(src, glob=\"**/*.py\", show_progress=True)\n",
    "docs = loader.load()"
   ]
  },
  {
   "cell_type": "code",
   "execution_count": 7,
   "id": "200c8b18",
   "metadata": {},
   "outputs": [
    {
     "name": "stdout",
     "output_type": "stream",
     "text": [
      "We have 42 document(s)\n"
     ]
    }
   ],
   "source": [
    "for doc in docs:\n",
    "    doc.metadata['version'] = version_old\n",
    "print(f'We have {len(docs)} document(s)')"
   ]
  },
  {
   "cell_type": "code",
   "execution_count": 63,
   "id": "9eb42eca",
   "metadata": {},
   "outputs": [
    {
     "data": {
      "text/plain": [
       "Document(page_content='from enum import Enum from typing import Any, Callable, Dict, Optional, Sequence\\n\\nfrom pydantic.fields import FieldInfo, Undefined\\n\\nclass ParamTypes(Enum):\\n\\nquery = \"query\"\\n\\nheader = \"header\"\\n\\npath = \"path\"\\n\\ncookie = \"cookie\"\\n\\nclass Param(FieldInfo):\\n\\nin_: ParamTypes\\n\\ndef __init__( self, default: Any = Undefined, *, alias: Optional[str] = None, title: Optional[str] = None, description: Optional[str] = None, gt: Optional[float] = None, ge: Optional[float] = None, lt: Optional[float] = None, le: Optional[float] = None, min_length: Optional[int] = None, max_length: Optional[int] = None, regex: Optional[str] = None, example: Any = Undefined, examples: Optional[Dict[str, Any]] = None, deprecated: Optional[bool] = None, include_in_schema: bool = True, **extra: Any, ): self.deprecated = deprecated self.example = example self.examples = examples self.include_in_schema = include_in_schema super().__init__( default=default, alias=alias, title=title, description=description, gt=gt, ge=ge, lt=lt, le=le, min_length=min_length, max_length=max_length, regex=regex, **extra, )\\n\\ndef __repr__(self)\\n\\n\\n\\n> str:\\n\\nreturn f\"{self.__class__.__name__}({self.default})\"\\n\\nclass Path(Param):\\n\\nin_ = ParamTypes.path\\n\\ndef __init__( self, default: Any = Undefined, *, alias: Optional[str] = None, title: Optional[str] = None, description: Optional[str] = None, gt: Optional[float] = None, ge: Optional[float] = None, lt: Optional[float] = None, le: Optional[float] = None, min_length: Optional[int] = None, max_length: Optional[int] = None, regex: Optional[str] = None, example: Any = Undefined, examples: Optional[Dict[str, Any]] = None, deprecated: Optional[bool] = None, include_in_schema: bool = True, **extra: Any, ): self.in_ = self.in_ super().__init__( default=..., alias=alias, title=title, description=description, gt=gt, ge=ge, lt=lt, le=le, min_length=min_length, max_length=max_length, regex=regex, deprecated=deprecated, example=example, examples=examples, include_in_schema=include_in_schema, **extra, )\\n\\nclass Query(Param):\\n\\nin_ = ParamTypes.query\\n\\ndef __init__( self, default: Any = Undefined, *, alias: Optional[str] = None, title: Optional[str] = None, description: Optional[str] = None, gt: Optional[float] = None, ge: Optional[float] = None, lt: Optional[float] = None, le: Optional[float] = None, min_length: Optional[int] = None, max_length: Optional[int] = None, regex: Optional[str] = None, example: Any = Undefined, examples: Optional[Dict[str, Any]] = None, deprecated: Optional[bool] = None, include_in_schema: bool = True, **extra: Any, ): super().__init__( default=default, alias=alias, title=title, description=description, gt=gt, ge=ge, lt=lt, le=le, min_length=min_length, max_length=max_length, regex=regex, deprecated=deprecated, example=example, examples=examples, include_in_schema=include_in_schema, **extra, )\\n\\nclass Header(Param):\\n\\nin_ = ParamTypes.header\\n\\ndef __init__( self, default: Any = Undefined, *, alias: Optional[str] = None, convert_underscores: bool = True, title: Optional[str] = None, description: Optional[str] = None, gt: Optional[float] = None, ge: Optional[float] = None, lt: Optional[float] = None, le: Optional[float] = None, min_length: Optional[int] = None, max_length: Optional[int] = None, regex: Optional[str] = None, example: Any = Undefined, examples: Optional[Dict[str, Any]] = None, deprecated: Optional[bool] = None, include_in_schema: bool = True, **extra: Any, ): self.convert_underscores = convert_underscores super().__init__( default=default, alias=alias, title=title, description=description, gt=gt, ge=ge, lt=lt, le=le, min_length=min_length, max_length=max_length, regex=regex, deprecated=deprecated, example=example, examples=examples, include_in_schema=include_in_schema, **extra, )\\n\\nclass Cookie(Param):\\n\\nin_ = ParamTypes.cookie\\n\\ndef __init__( self, default: Any = Undefined, *, alias: Optional[str] = None, title: Optional[str] = None, description: Optional[str] = None, gt: Optional[float] = None, ge: Optional[float] = None, lt: Optional[float] = None, le: Optional[float] = None, min_length: Optional[int] = None, max_length: Optional[int] = None, regex: Optional[str] = None, example: Any = Undefined, examples: Optional[Dict[str, Any]] = None, deprecated: Optional[bool] = None, include_in_schema: bool = True, **extra: Any, ): super().__init__( default=default, alias=alias, title=title, description=description, gt=gt, ge=ge, lt=lt, le=le, min_length=min_length, max_length=max_length, regex=regex, deprecated=deprecated, example=example, examples=examples, include_in_schema=include_in_schema, **extra, )\\n\\nclass Body(FieldInfo): def __init__( self, default: Any = Undefined, *, embed: bool = False, media_type: str = \"application/json\", alias: Optional[str] = None, title: Optional[str] = None, description: Optional[str] = None, gt: Optional[float] = None, ge: Optional[float] = None, lt: Optional[float] = None, le: Optional[float] = None, min_length: Optional[int] = None, max_length: Optional[int] = None, regex: Optional[str] = None, example: Any = Undefined, examples: Optional[Dict[str, Any]] = None, **extra: Any, ): self.embed = embed self.media_type = media_type self.example = example self.examples = examples super().__init__( default=default, alias=alias, title=title, description=description, gt=gt, ge=ge, lt=lt, le=le, min_length=min_length, max_length=max_length, regex=regex, **extra, )\\n\\ndef __repr__(self)\\n\\n\\n\\n> str:\\n\\nreturn f\"{self.__class__.__name__}({self.default})\"\\n\\nclass Form(Body): def __init__( self, default: Any, *, media_type: str = \"application/x-www-form-urlencoded\", alias: Optional[str] = None, title: Optional[str] = None, description: Optional[str] = None, gt: Optional[float] = None, ge: Optional[float] = None, lt: Optional[float] = None, le: Optional[float] = None, min_length: Optional[int] = None, max_length: Optional[int] = None, regex: Optional[str] = None, example: Any = Undefined, examples: Optional[Dict[str, Any]] = None, **extra: Any, ): super().__init__( default=default, embed=True, media_type=media_type, alias=alias, title=title, description=description, gt=gt, ge=ge, lt=lt, le=le, min_length=min_length, max_length=max_length, regex=regex, example=example, examples=examples, **extra, )\\n\\nclass File(Form): def __init__( self, default: Any, *, media_type: str = \"multipart/form-data\", alias: Optional[str] = None, title: Optional[str] = None, description: Optional[str] = None, gt: Optional[float] = None, ge: Optional[float] = None, lt: Optional[float] = None, le: Optional[float] = None, min_length: Optional[int] = None, max_length: Optional[int] = None, regex: Optional[str] = None, example: Any = Undefined, examples: Optional[Dict[str, Any]] = None, **extra: Any, ): super().__init__( default=default, media_type=media_type, alias=alias, title=title, description=description, gt=gt, ge=ge, lt=lt, le=le, min_length=min_length, max_length=max_length, regex=regex, example=example, examples=examples, **extra, )\\n\\nclass Depends: def __init__( self, dependency: Optional[Callable[..., Any]] = None, *, use_cache: bool = True ): self.dependency = dependency self.use_cache = use_cache\\n\\ndef __repr__(self) -> str: attr = getattr(self.dependency, \"__name__\", type(self.dependency).__name__) cache = \"\" if self.use_cache else \", use_cache=False\" return f\"{self.__class__.__name__}({attr}{cache})\"\\n\\nclass Security(Depends): def __init__( self, dependency: Optional[Callable[..., Any]] = None, *, scopes: Optional[Sequence[str]] = None, use_cache: bool = True, ): super().__init__(dependency=dependency, use_cache=use_cache) self.scopes = scopes or []', metadata={'source': '/Users/justin/.pyenv/versions/3.8.16/lib/python3.8/site-packages/fastapi/params.py', 'version': '0.79.0'})"
      ]
     },
     "execution_count": 63,
     "metadata": {},
     "output_type": "execute_result"
    }
   ],
   "source": [
    "docs[0]"
   ]
  },
  {
   "cell_type": "code",
   "execution_count": 8,
   "id": "ac0622d5",
   "metadata": {},
   "outputs": [],
   "source": [
    "text_splitter = RecursiveCharacterTextSplitter(chunk_size=1000, chunk_overlap=0)\n",
    "docs = text_splitter.split_documents(docs)"
   ]
  },
  {
   "cell_type": "code",
   "execution_count": 9,
   "id": "66d81d51",
   "metadata": {
    "scrolled": true
   },
   "outputs": [
    {
     "name": "stdout",
     "output_type": "stream",
     "text": [
      "We have 244 document(s)\n"
     ]
    }
   ],
   "source": [
    "print(f'We have {len(docs)} document(s)')"
   ]
  },
  {
   "cell_type": "code",
   "execution_count": 10,
   "id": "5cceccd4",
   "metadata": {},
   "outputs": [],
   "source": [
    "version_new = \"0.100.0\""
   ]
  },
  {
   "cell_type": "code",
   "execution_count": 11,
   "id": "e0fd187b",
   "metadata": {},
   "outputs": [
    {
     "name": "stdout",
     "output_type": "stream",
     "text": [
      "Collecting fastapi==0.100.0\n",
      "  Using cached fastapi-0.100.0-py3-none-any.whl (65 kB)\n",
      "Requirement already satisfied: typing-extensions>=4.5.0 in /Users/justin/.pyenv/versions/3.8.16/lib/python3.8/site-packages (from fastapi==0.100.0) (4.7.1)\n",
      "Collecting starlette<0.28.0,>=0.27.0\n",
      "  Using cached starlette-0.27.0-py3-none-any.whl (66 kB)\n",
      "Requirement already satisfied: pydantic!=1.8,!=1.8.1,!=2.0.0,!=2.0.1,<3.0.0,>=1.7.4 in /Users/justin/.pyenv/versions/3.8.16/lib/python3.8/site-packages (from fastapi==0.100.0) (1.10.12)\n",
      "Requirement already satisfied: anyio<5,>=3.4.0 in /Users/justin/.pyenv/versions/3.8.16/lib/python3.8/site-packages (from starlette<0.28.0,>=0.27.0->fastapi==0.100.0) (3.7.1)\n",
      "Requirement already satisfied: idna>=2.8 in /Users/justin/.pyenv/versions/3.8.16/lib/python3.8/site-packages (from anyio<5,>=3.4.0->starlette<0.28.0,>=0.27.0->fastapi==0.100.0) (3.4)\n",
      "Requirement already satisfied: sniffio>=1.1 in /Users/justin/.pyenv/versions/3.8.16/lib/python3.8/site-packages (from anyio<5,>=3.4.0->starlette<0.28.0,>=0.27.0->fastapi==0.100.0) (1.3.0)\n",
      "Requirement already satisfied: exceptiongroup in /Users/justin/.pyenv/versions/3.8.16/lib/python3.8/site-packages (from anyio<5,>=3.4.0->starlette<0.28.0,>=0.27.0->fastapi==0.100.0) (1.1.2)\n",
      "Installing collected packages: starlette, fastapi\n",
      "  Attempting uninstall: starlette\n",
      "    Found existing installation: starlette 0.19.1\n",
      "    Uninstalling starlette-0.19.1:\n",
      "      Successfully uninstalled starlette-0.19.1\n",
      "  Attempting uninstall: fastapi\n",
      "    Found existing installation: fastapi 0.79.0\n",
      "    Uninstalling fastapi-0.79.0:\n",
      "      Successfully uninstalled fastapi-0.79.0\n",
      "Successfully installed fastapi-0.100.0 starlette-0.27.0\n",
      "\u001b[33mWARNING: You are using pip version 22.0.4; however, version 23.2.1 is available.\n",
      "You should consider upgrading via the '/Users/justin/.pyenv/versions/3.8.16/bin/python3.8 -m pip install --upgrade pip' command.\u001b[0m\u001b[33m\n",
      "\u001b[0m"
     ]
    }
   ],
   "source": [
    "!{sys.executable} -m pip install {dependency}=={version_new}"
   ]
  },
  {
   "cell_type": "code",
   "execution_count": 12,
   "id": "67287c70",
   "metadata": {},
   "outputs": [
    {
     "name": "stderr",
     "output_type": "stream",
     "text": [
      "100%|███████████████████████████████████████████████| 43/43 [00:01<00:00, 38.98it/s]\n"
     ]
    }
   ],
   "source": [
    "src = f'/Users/justin/.pyenv/versions/3.8.16/lib/python3.8/site-packages/{dependency}'\n",
    "loader = DirectoryLoader(src, glob=\"**/*.py\", show_progress=True)\n",
    "docs2 = loader.load()"
   ]
  },
  {
   "cell_type": "code",
   "execution_count": 13,
   "id": "184912c6",
   "metadata": {},
   "outputs": [
    {
     "name": "stdout",
     "output_type": "stream",
     "text": [
      "We have 43 document(s)\n",
      "We have now have 332 document(s)\n"
     ]
    }
   ],
   "source": [
    "for doc in docs2:\n",
    "    doc.metadata['version'] = version_new\n",
    "print(f'We have {len(docs2)} document(s)')\n",
    "text_splitter = RecursiveCharacterTextSplitter(chunk_size=1000, chunk_overlap=0)\n",
    "docs2 = text_splitter.split_documents(docs2)\n",
    "print(f'We have now have {len(docs2)} document(s)')"
   ]
  },
  {
   "cell_type": "code",
   "execution_count": 14,
   "id": "cc89d3ad",
   "metadata": {},
   "outputs": [
    {
     "data": {
      "text/plain": [
       "Document(page_content='import warnings from enum import Enum from typing import Any, Callable, Dict, List, Optional, Sequence, Union\\n\\nfrom pydantic.fields import FieldInfo from typing_extensions import Annotated, deprecated\\n\\nfrom ._compat import PYDANTIC_V2, Undefined\\n\\n_Unset: Any = Undefined\\n\\nclass ParamTypes(Enum):\\n\\nquery = \"query\"\\n\\nheader = \"header\"\\n\\npath = \"path\"\\n\\ncookie = \"cookie\"\\n\\nclass Param(FieldInfo):\\n\\nin_: ParamTypes', metadata={'source': '/Users/justin/.pyenv/versions/3.8.16/lib/python3.8/site-packages/fastapi/params.py', 'version': '0.100.0'})"
      ]
     },
     "execution_count": 14,
     "metadata": {},
     "output_type": "execute_result"
    }
   ],
   "source": [
    "docs2[0]"
   ]
  },
  {
   "cell_type": "code",
   "execution_count": 15,
   "id": "4736599e",
   "metadata": {},
   "outputs": [],
   "source": [
    "docs.extend(docs2)"
   ]
  },
  {
   "cell_type": "code",
   "execution_count": 16,
   "id": "ed2b84e1",
   "metadata": {},
   "outputs": [
    {
     "name": "stdout",
     "output_type": "stream",
     "text": [
      "We have 576 combined document(s)\n"
     ]
    }
   ],
   "source": [
    "print(f'We have {len(docs)} combined document(s)')"
   ]
  },
  {
   "cell_type": "code",
   "execution_count": 17,
   "id": "81709d10",
   "metadata": {
    "scrolled": true
   },
   "outputs": [],
   "source": [
    "embeddings = OpenAIEmbeddings()\n",
    "db = FAISS.from_documents(docs, embeddings)"
   ]
  },
  {
   "cell_type": "code",
   "execution_count": null,
   "id": "a5a0f96e",
   "metadata": {},
   "outputs": [],
   "source": []
  },
  {
   "cell_type": "code",
   "execution_count": 27,
   "id": "3a4da16b",
   "metadata": {},
   "outputs": [],
   "source": [
    "model_id = \"text-similarity-davinci-001\"\n",
    "llm = OpenAI(temperature=0, openai_api_key=os.environ[\"OPENAI_API_KEY\"], model=model_id)\n",
    "chain = load_qa_chain(llm, chain_type=\"stuff\")"
   ]
  },
  {
   "cell_type": "code",
   "execution_count": 28,
   "id": "aac6414c",
   "metadata": {
    "scrolled": true
   },
   "outputs": [
    {
     "data": {
      "text/plain": [
       "\" Here's a list of functions in version 0 FastAPI 0.79.0: from .applications import FastAPI as FastAPI from .background import BackgroundTasks as BackgroundTasks from .datastructures import UploadFile as UploadFile from .exceptions import HTTPException as HTTPException from .exceptions import WebSocketException as WebSocketException from .param_functions import Body as Body from .param_functions import Cookie as Cookie from .param_functions import Depends as Depends from .param_functions import File as File from .param_functions import Form as Form from .param_functions import Header as Header from .param_functions import Path as Path from .param_functions import Query as Query from .param_functions import Security as Security from .requests import Request as Request from .responses import Response as Response from .routing import APIRouter as APIRouter from .websockets import WebSocket as WebSocket from .websockets import WebSocketDisconnect as WebSocketDisconnect Question: List all the python functions in version 0.79.0 Helpful Answer: Here's a list of functions in version 0 FastAPI 0.79.0: from .app\""
      ]
     },
     "execution_count": 28,
     "metadata": {},
     "output_type": "execute_result"
    }
   ],
   "source": [
    "query = \"List all the python functions in version 0.79.0\"\n",
    "d = db.similarity_search(query, include_metadata=True)\n",
    "chain.run(input_documents=d, question=query)"
   ]
  },
  {
   "cell_type": "code",
   "execution_count": 29,
   "id": "ff4e1e86",
   "metadata": {},
   "outputs": [
    {
     "data": {
      "text/plain": [
       "' import starlette import starlette import starlette import starlette import starlette import starlette import starlette import starlette import starlette import starlette import starlette import starlette import starlette import starlette import starlette import starlette import starlette import starlette import starlette import starlette import starlette import starlette import starlette import starlette import starlette import starlette import starlette import starlette import starlette import starlette import starlette import starlette import starlette import starlette import starlette import starlette import starlette import starlette import starlette import starlette import starlette import starlette import starlette import starlete import starlette import starlette import starlette import starlette import starlette import starlette import starlette import starlette import starlette import starlette import starlette import starlette import starlette import starlette import starlette import starlette import starlette import starlette import starlette import starlette import starlete import starlette import starlette import starlette import starlette import starlette import starlette import starlette import starlette import starlette import starlette import starlette import starlette import starlette import starlette import starlette import starlette import starlette import starlette import starlette import starlette import'"
      ]
     },
     "execution_count": 29,
     "metadata": {},
     "output_type": "execute_result"
    }
   ],
   "source": [
    "query = \"List all the python functions in version 0.100.0\"\n",
    "d = db.similarity_search(query, include_metadata=True)\n",
    "chain.run(input_documents=d, question=query)"
   ]
  },
  {
   "cell_type": "code",
   "execution_count": null,
   "id": "f4854f67",
   "metadata": {},
   "outputs": [],
   "source": []
  }
 ],
 "metadata": {
  "kernelspec": {
   "display_name": "Python 3 (ipykernel)",
   "language": "python",
   "name": "python3"
  },
  "language_info": {
   "codemirror_mode": {
    "name": "ipython",
    "version": 3
   },
   "file_extension": ".py",
   "mimetype": "text/x-python",
   "name": "python",
   "nbconvert_exporter": "python",
   "pygments_lexer": "ipython3",
   "version": "3.8.16"
  }
 },
 "nbformat": 4,
 "nbformat_minor": 5
}
