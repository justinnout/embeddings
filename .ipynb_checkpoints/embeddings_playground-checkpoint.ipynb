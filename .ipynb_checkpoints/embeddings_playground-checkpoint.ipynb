{
 "cells": [
  {
   "cell_type": "code",
   "execution_count": 68,
   "id": "86c25a23",
   "metadata": {},
   "outputs": [],
   "source": [
    "import os\n",
    "import requests\n",
    "\n",
    "from bs4 import BeautifulSoup\n",
    "from collections import deque\n",
    "from dotenv import load_dotenv\n",
    "from langchain.embeddings.openai import OpenAIEmbeddings\n",
    "from langchain.document_loaders import WebBaseLoader\n",
    "from langchain.text_splitter import RecursiveCharacterTextSplitter\n",
    "from langchain.vectorstores import FAISS\n",
    "from langchain.document_loaders import TextLoader\n",
    "from langchain.llms import OpenAI\n",
    "from langchain.chains.question_answering import load_qa_chain\n",
    "from urllib.parse import urljoin, urlparse"
   ]
  },
  {
   "cell_type": "code",
   "execution_count": 69,
   "id": "d18c5368",
   "metadata": {},
   "outputs": [],
   "source": [
    "load_dotenv()\n",
    "assert os.environ[\"OPENAI_API_KEY\"] != \"\""
   ]
  },
  {
   "cell_type": "code",
   "execution_count": 23,
   "id": "e79c2cf9",
   "metadata": {},
   "outputs": [],
   "source": [
    "def bfs(url):\n",
    "    visited = set([url])\n",
    "    dq = deque([[url, \"\", 0]])\n",
    "    max_depth = 5\n",
    "\n",
    "    while dq:\n",
    "        base, path, depth = dq.popleft()\n",
    "\n",
    "        if depth < max_depth:\n",
    "            try:\n",
    "                soup = BeautifulSoup(requests.get(base + path).text, \"html.parser\")\n",
    "\n",
    "                for link in soup.find_all(\"a\"):\n",
    "                    href = link.get(\"href\")\n",
    "\n",
    "                    if href.startswith(\"#\"):\n",
    "                        continue\n",
    "\n",
    "                    full_url = urljoin(url, href)\n",
    "                    if not full_url.startswith(url):\n",
    "                        continue\n",
    "\n",
    "                    if \"#\" in full_url:\n",
    "                        continue\n",
    "\n",
    "                    if full_url not in visited:\n",
    "                        visited.add(full_url)\n",
    "                        #print(\"  \" * depth + f\"at depth {depth}: {full_url}\")\n",
    "\n",
    "                        if full_url.startswith(\"http\"):\n",
    "                            dq.append([full_url, \"\", depth + 1])\n",
    "                        else:\n",
    "                            dq.append([base, full_url, depth + 1])\n",
    "            except:\n",
    "                pass\n",
    "\n",
    "    return visited"
   ]
  },
  {
   "cell_type": "code",
   "execution_count": 24,
   "id": "be94d30d",
   "metadata": {},
   "outputs": [
    {
     "name": "stdout",
     "output_type": "stream",
     "text": [
      "at depth 0: https://fastapi.tiangolo.com/newsletter/\n",
      "at depth 0: https://fastapi.tiangolo.com/\n",
      "at depth 0: https://fastapi.tiangolo.com/de/\n",
      "at depth 0: https://fastapi.tiangolo.com/em/\n",
      "at depth 0: https://fastapi.tiangolo.com/es/\n",
      "at depth 0: https://fastapi.tiangolo.com/fa/\n",
      "at depth 0: https://fastapi.tiangolo.com/fr/\n",
      "at depth 0: https://fastapi.tiangolo.com/he/\n",
      "at depth 0: https://fastapi.tiangolo.com/id/\n",
      "at depth 0: https://fastapi.tiangolo.com/ja/\n",
      "at depth 0: https://fastapi.tiangolo.com/ko/\n",
      "at depth 0: https://fastapi.tiangolo.com/pl/\n",
      "at depth 0: https://fastapi.tiangolo.com/pt/\n",
      "at depth 0: https://fastapi.tiangolo.com/ru/\n",
      "at depth 0: https://fastapi.tiangolo.com/tr/\n",
      "at depth 0: https://fastapi.tiangolo.com/zh/\n",
      "at depth 0: https://fastapi.tiangolo.com/features/\n",
      "at depth 0: https://fastapi.tiangolo.com/fastapi-people/\n",
      "at depth 0: https://fastapi.tiangolo.com/python-types/\n",
      "at depth 0: https://fastapi.tiangolo.com/tutorial/\n",
      "at depth 0: https://fastapi.tiangolo.com/tutorial/first-steps/\n",
      "at depth 0: https://fastapi.tiangolo.com/tutorial/path-params/\n",
      "at depth 0: https://fastapi.tiangolo.com/tutorial/query-params/\n",
      "at depth 0: https://fastapi.tiangolo.com/tutorial/body/\n",
      "at depth 0: https://fastapi.tiangolo.com/tutorial/query-params-str-validations/\n",
      "at depth 0: https://fastapi.tiangolo.com/tutorial/path-params-numeric-validations/\n",
      "at depth 0: https://fastapi.tiangolo.com/tutorial/body-multiple-params/\n",
      "at depth 0: https://fastapi.tiangolo.com/tutorial/body-fields/\n",
      "at depth 0: https://fastapi.tiangolo.com/tutorial/body-nested-models/\n",
      "at depth 0: https://fastapi.tiangolo.com/tutorial/schema-extra-example/\n",
      "at depth 0: https://fastapi.tiangolo.com/tutorial/extra-data-types/\n",
      "at depth 0: https://fastapi.tiangolo.com/tutorial/cookie-params/\n",
      "at depth 0: https://fastapi.tiangolo.com/tutorial/header-params/\n",
      "at depth 0: https://fastapi.tiangolo.com/tutorial/response-model/\n",
      "at depth 0: https://fastapi.tiangolo.com/tutorial/extra-models/\n",
      "at depth 0: https://fastapi.tiangolo.com/tutorial/response-status-code/\n",
      "at depth 0: https://fastapi.tiangolo.com/tutorial/request-forms/\n",
      "at depth 0: https://fastapi.tiangolo.com/tutorial/request-files/\n",
      "at depth 0: https://fastapi.tiangolo.com/tutorial/request-forms-and-files/\n",
      "at depth 0: https://fastapi.tiangolo.com/tutorial/handling-errors/\n",
      "at depth 0: https://fastapi.tiangolo.com/tutorial/path-operation-configuration/\n",
      "at depth 0: https://fastapi.tiangolo.com/tutorial/encoder/\n",
      "at depth 0: https://fastapi.tiangolo.com/tutorial/body-updates/\n",
      "at depth 0: https://fastapi.tiangolo.com/tutorial/dependencies/\n",
      "at depth 0: https://fastapi.tiangolo.com/tutorial/dependencies/classes-as-dependencies/\n",
      "at depth 0: https://fastapi.tiangolo.com/tutorial/dependencies/sub-dependencies/\n",
      "at depth 0: https://fastapi.tiangolo.com/tutorial/dependencies/dependencies-in-path-operation-decorators/\n",
      "at depth 0: https://fastapi.tiangolo.com/tutorial/dependencies/global-dependencies/\n",
      "at depth 0: https://fastapi.tiangolo.com/tutorial/dependencies/dependencies-with-yield/\n",
      "at depth 0: https://fastapi.tiangolo.com/tutorial/security/\n",
      "at depth 0: https://fastapi.tiangolo.com/tutorial/security/first-steps/\n",
      "at depth 0: https://fastapi.tiangolo.com/tutorial/security/get-current-user/\n",
      "at depth 0: https://fastapi.tiangolo.com/tutorial/security/simple-oauth2/\n",
      "at depth 0: https://fastapi.tiangolo.com/tutorial/security/oauth2-jwt/\n",
      "at depth 0: https://fastapi.tiangolo.com/tutorial/middleware/\n",
      "at depth 0: https://fastapi.tiangolo.com/tutorial/cors/\n",
      "at depth 0: https://fastapi.tiangolo.com/tutorial/sql-databases/\n",
      "at depth 0: https://fastapi.tiangolo.com/tutorial/bigger-applications/\n",
      "at depth 0: https://fastapi.tiangolo.com/tutorial/background-tasks/\n",
      "at depth 0: https://fastapi.tiangolo.com/tutorial/metadata/\n",
      "at depth 0: https://fastapi.tiangolo.com/tutorial/static-files/\n",
      "at depth 0: https://fastapi.tiangolo.com/tutorial/testing/\n",
      "at depth 0: https://fastapi.tiangolo.com/tutorial/debugging/\n",
      "at depth 0: https://fastapi.tiangolo.com/advanced/\n",
      "at depth 0: https://fastapi.tiangolo.com/advanced/path-operation-advanced-configuration/\n",
      "at depth 0: https://fastapi.tiangolo.com/advanced/additional-status-codes/\n",
      "at depth 0: https://fastapi.tiangolo.com/advanced/response-directly/\n",
      "at depth 0: https://fastapi.tiangolo.com/advanced/custom-response/\n",
      "at depth 0: https://fastapi.tiangolo.com/advanced/additional-responses/\n",
      "at depth 0: https://fastapi.tiangolo.com/advanced/response-cookies/\n",
      "at depth 0: https://fastapi.tiangolo.com/advanced/response-headers/\n",
      "at depth 0: https://fastapi.tiangolo.com/advanced/response-change-status-code/\n",
      "at depth 0: https://fastapi.tiangolo.com/advanced/advanced-dependencies/\n",
      "at depth 0: https://fastapi.tiangolo.com/advanced/security/\n",
      "at depth 0: https://fastapi.tiangolo.com/advanced/security/oauth2-scopes/\n",
      "at depth 0: https://fastapi.tiangolo.com/advanced/security/http-basic-auth/\n",
      "at depth 0: https://fastapi.tiangolo.com/advanced/using-request-directly/\n",
      "at depth 0: https://fastapi.tiangolo.com/advanced/dataclasses/\n",
      "at depth 0: https://fastapi.tiangolo.com/advanced/middleware/\n",
      "at depth 0: https://fastapi.tiangolo.com/advanced/sql-databases-peewee/\n",
      "at depth 0: https://fastapi.tiangolo.com/advanced/async-sql-databases/\n",
      "at depth 0: https://fastapi.tiangolo.com/advanced/nosql-databases/\n",
      "at depth 0: https://fastapi.tiangolo.com/advanced/sub-applications/\n",
      "at depth 0: https://fastapi.tiangolo.com/advanced/behind-a-proxy/\n",
      "at depth 0: https://fastapi.tiangolo.com/advanced/templates/\n",
      "at depth 0: https://fastapi.tiangolo.com/advanced/graphql/\n",
      "at depth 0: https://fastapi.tiangolo.com/advanced/websockets/\n",
      "at depth 0: https://fastapi.tiangolo.com/advanced/events/\n",
      "at depth 0: https://fastapi.tiangolo.com/advanced/custom-request-and-route/\n",
      "at depth 0: https://fastapi.tiangolo.com/advanced/testing-websockets/\n",
      "at depth 0: https://fastapi.tiangolo.com/advanced/testing-events/\n",
      "at depth 0: https://fastapi.tiangolo.com/advanced/testing-dependencies/\n",
      "at depth 0: https://fastapi.tiangolo.com/advanced/testing-database/\n",
      "at depth 0: https://fastapi.tiangolo.com/advanced/async-tests/\n",
      "at depth 0: https://fastapi.tiangolo.com/advanced/settings/\n",
      "at depth 0: https://fastapi.tiangolo.com/advanced/conditional-openapi/\n",
      "at depth 0: https://fastapi.tiangolo.com/advanced/extending-openapi/\n",
      "at depth 0: https://fastapi.tiangolo.com/advanced/openapi-callbacks/\n",
      "at depth 0: https://fastapi.tiangolo.com/advanced/openapi-webhooks/\n",
      "at depth 0: https://fastapi.tiangolo.com/advanced/wsgi/\n",
      "at depth 0: https://fastapi.tiangolo.com/advanced/generate-clients/\n",
      "at depth 0: https://fastapi.tiangolo.com/async/\n",
      "at depth 0: https://fastapi.tiangolo.com/deployment/\n",
      "at depth 0: https://fastapi.tiangolo.com/deployment/versions/\n",
      "at depth 0: https://fastapi.tiangolo.com/deployment/https/\n",
      "at depth 0: https://fastapi.tiangolo.com/deployment/manually/\n",
      "at depth 0: https://fastapi.tiangolo.com/deployment/concepts/\n",
      "at depth 0: https://fastapi.tiangolo.com/deployment/deta/\n",
      "at depth 0: https://fastapi.tiangolo.com/deployment/server-workers/\n",
      "at depth 0: https://fastapi.tiangolo.com/deployment/docker/\n",
      "at depth 0: https://fastapi.tiangolo.com/project-generation/\n",
      "at depth 0: https://fastapi.tiangolo.com/alternatives/\n",
      "at depth 0: https://fastapi.tiangolo.com/history-design-future/\n",
      "at depth 0: https://fastapi.tiangolo.com/external-links/\n",
      "at depth 0: https://fastapi.tiangolo.com/benchmarks/\n",
      "at depth 0: https://fastapi.tiangolo.com/help-fastapi/\n",
      "at depth 0: https://fastapi.tiangolo.com/contributing/\n",
      "at depth 0: https://fastapi.tiangolo.com/release-notes/\n",
      "  at depth 1: https://fastapi.tiangolo.com/fr/tutorial/\n",
      "  at depth 1: https://fastapi.tiangolo.com/fr/benchmarks/\n",
      "  at depth 1: https://fastapi.tiangolo.com/first-steps/\n",
      "  at depth 1: https://fastapi.tiangolo.com/path-params/\n",
      "  at depth 1: https://fastapi.tiangolo.com/query-params/\n",
      "  at depth 1: https://fastapi.tiangolo.com/body/\n",
      "  at depth 1: https://fastapi.tiangolo.com/query-params-str-validations/\n",
      "  at depth 1: https://fastapi.tiangolo.com/path-params-numeric-validations/\n",
      "  at depth 1: https://fastapi.tiangolo.com/body-multiple-params/\n",
      "  at depth 1: https://fastapi.tiangolo.com/body-fields/\n",
      "  at depth 1: https://fastapi.tiangolo.com/body-nested-models/\n",
      "  at depth 1: https://fastapi.tiangolo.com/schema-extra-example/\n",
      "  at depth 1: https://fastapi.tiangolo.com/extra-data-types/\n",
      "  at depth 1: https://fastapi.tiangolo.com/cookie-params/\n",
      "  at depth 1: https://fastapi.tiangolo.com/header-params/\n",
      "  at depth 1: https://fastapi.tiangolo.com/response-model/\n",
      "  at depth 1: https://fastapi.tiangolo.com/extra-models/\n",
      "  at depth 1: https://fastapi.tiangolo.com/response-status-code/\n",
      "  at depth 1: https://fastapi.tiangolo.com/request-forms/\n",
      "  at depth 1: https://fastapi.tiangolo.com/request-files/\n",
      "  at depth 1: https://fastapi.tiangolo.com/request-forms-and-files/\n",
      "  at depth 1: https://fastapi.tiangolo.com/handling-errors/\n",
      "  at depth 1: https://fastapi.tiangolo.com/path-operation-configuration/\n",
      "  at depth 1: https://fastapi.tiangolo.com/encoder/\n",
      "  at depth 1: https://fastapi.tiangolo.com/body-updates/\n",
      "  at depth 1: https://fastapi.tiangolo.com/dependencies/\n",
      "  at depth 1: https://fastapi.tiangolo.com/dependencies/classes-as-dependencies/\n",
      "  at depth 1: https://fastapi.tiangolo.com/dependencies/sub-dependencies/\n",
      "  at depth 1: https://fastapi.tiangolo.com/dependencies/dependencies-in-path-operation-decorators/\n",
      "  at depth 1: https://fastapi.tiangolo.com/dependencies/global-dependencies/\n",
      "  at depth 1: https://fastapi.tiangolo.com/dependencies/dependencies-with-yield/\n",
      "  at depth 1: https://fastapi.tiangolo.com/security/\n",
      "  at depth 1: https://fastapi.tiangolo.com/security/first-steps/\n",
      "  at depth 1: https://fastapi.tiangolo.com/security/get-current-user/\n",
      "  at depth 1: https://fastapi.tiangolo.com/security/simple-oauth2/\n",
      "  at depth 1: https://fastapi.tiangolo.com/security/oauth2-jwt/\n",
      "  at depth 1: https://fastapi.tiangolo.com/middleware/\n",
      "  at depth 1: https://fastapi.tiangolo.com/cors/\n",
      "  at depth 1: https://fastapi.tiangolo.com/sql-databases/\n",
      "  at depth 1: https://fastapi.tiangolo.com/bigger-applications/\n",
      "  at depth 1: https://fastapi.tiangolo.com/background-tasks/\n",
      "  at depth 1: https://fastapi.tiangolo.com/metadata/\n",
      "  at depth 1: https://fastapi.tiangolo.com/static-files/\n",
      "  at depth 1: https://fastapi.tiangolo.com/testing/\n",
      "  at depth 1: https://fastapi.tiangolo.com/debugging/\n"
     ]
    },
    {
     "name": "stdout",
     "output_type": "stream",
     "text": [
      "  at depth 1: https://fastapi.tiangolo.com/classes-as-dependencies/\n",
      "  at depth 1: https://fastapi.tiangolo.com/sub-dependencies/\n",
      "  at depth 1: https://fastapi.tiangolo.com/dependencies-in-path-operation-decorators/\n",
      "  at depth 1: https://fastapi.tiangolo.com/global-dependencies/\n",
      "  at depth 1: https://fastapi.tiangolo.com/dependencies-with-yield/\n",
      "  at depth 1: https://fastapi.tiangolo.com/get-current-user/\n",
      "  at depth 1: https://fastapi.tiangolo.com/simple-oauth2/\n",
      "  at depth 1: https://fastapi.tiangolo.com/oauth2-jwt/\n",
      "  at depth 1: https://fastapi.tiangolo.com/path-operation-advanced-configuration/\n",
      "  at depth 1: https://fastapi.tiangolo.com/additional-status-codes/\n",
      "  at depth 1: https://fastapi.tiangolo.com/response-directly/\n",
      "  at depth 1: https://fastapi.tiangolo.com/custom-response/\n",
      "  at depth 1: https://fastapi.tiangolo.com/additional-responses/\n",
      "  at depth 1: https://fastapi.tiangolo.com/response-cookies/\n",
      "  at depth 1: https://fastapi.tiangolo.com/response-headers/\n",
      "  at depth 1: https://fastapi.tiangolo.com/response-change-status-code/\n",
      "  at depth 1: https://fastapi.tiangolo.com/advanced-dependencies/\n",
      "  at depth 1: https://fastapi.tiangolo.com/security/oauth2-scopes/\n",
      "  at depth 1: https://fastapi.tiangolo.com/security/http-basic-auth/\n",
      "  at depth 1: https://fastapi.tiangolo.com/using-request-directly/\n",
      "  at depth 1: https://fastapi.tiangolo.com/dataclasses/\n",
      "  at depth 1: https://fastapi.tiangolo.com/sql-databases-peewee/\n",
      "  at depth 1: https://fastapi.tiangolo.com/async-sql-databases/\n",
      "  at depth 1: https://fastapi.tiangolo.com/nosql-databases/\n",
      "  at depth 1: https://fastapi.tiangolo.com/sub-applications/\n",
      "  at depth 1: https://fastapi.tiangolo.com/behind-a-proxy/\n",
      "  at depth 1: https://fastapi.tiangolo.com/templates/\n",
      "  at depth 1: https://fastapi.tiangolo.com/graphql/\n",
      "  at depth 1: https://fastapi.tiangolo.com/websockets/\n",
      "  at depth 1: https://fastapi.tiangolo.com/events/\n",
      "  at depth 1: https://fastapi.tiangolo.com/custom-request-and-route/\n",
      "  at depth 1: https://fastapi.tiangolo.com/testing-websockets/\n",
      "  at depth 1: https://fastapi.tiangolo.com/testing-events/\n",
      "  at depth 1: https://fastapi.tiangolo.com/testing-dependencies/\n",
      "  at depth 1: https://fastapi.tiangolo.com/testing-database/\n",
      "  at depth 1: https://fastapi.tiangolo.com/async-tests/\n",
      "  at depth 1: https://fastapi.tiangolo.com/settings/\n",
      "  at depth 1: https://fastapi.tiangolo.com/conditional-openapi/\n",
      "  at depth 1: https://fastapi.tiangolo.com/extending-openapi/\n",
      "  at depth 1: https://fastapi.tiangolo.com/openapi-callbacks/\n",
      "  at depth 1: https://fastapi.tiangolo.com/openapi-webhooks/\n",
      "  at depth 1: https://fastapi.tiangolo.com/wsgi/\n",
      "  at depth 1: https://fastapi.tiangolo.com/generate-clients/\n",
      "  at depth 1: https://fastapi.tiangolo.com/oauth2-scopes/\n",
      "  at depth 1: https://fastapi.tiangolo.com/http-basic-auth/\n",
      "  at depth 1: https://fastapi.tiangolo.com/tutorial/dependencies/index.md\n",
      "  at depth 1: https://fastapi.tiangolo.com/tutorial/dependencies/sub-dependencies.md\n",
      "  at depth 1: https://fastapi.tiangolo.com/versions/\n",
      "  at depth 1: https://fastapi.tiangolo.com/https/\n",
      "  at depth 1: https://fastapi.tiangolo.com/manually/\n",
      "  at depth 1: https://fastapi.tiangolo.com/concepts/\n",
      "  at depth 1: https://fastapi.tiangolo.com/deta/\n",
      "  at depth 1: https://fastapi.tiangolo.com/server-workers/\n",
      "  at depth 1: https://fastapi.tiangolo.com/docker/\n",
      "  at depth 1: https://fastapi.tiangolo.com/zh/tutorial/body-fields/\n",
      "  at depth 1: https://fastapi.tiangolo.com/zh/tutorial/body-multiple-params/\n",
      "  at depth 1: https://fastapi.tiangolo.com/zh/tutorial/path-params-numeric-validations/\n",
      "  at depth 1: https://fastapi.tiangolo.com/zh/tutorial/query-params-str-validations/\n",
      "  at depth 1: https://fastapi.tiangolo.com/zh/tutorial/body/\n",
      "  at depth 1: https://fastapi.tiangolo.com/zh/help-fastapi/\n",
      "  at depth 1: https://fastapi.tiangolo.com/zh/tutorial/query-params/\n",
      "  at depth 1: https://fastapi.tiangolo.com/zh/contributing/\n",
      "  at depth 1: https://fastapi.tiangolo.com/zh/tutorial/path-params/\n",
      "  at depth 1: https://fastapi.tiangolo.com/zh/tutorial/first-steps/\n",
      "  at depth 1: https://fastapi.tiangolo.com/zh/python-types/\n",
      "  at depth 1: https://fastapi.tiangolo.com/pt/alternatives/\n",
      "  at depth 1: https://fastapi.tiangolo.com/es/async/\n",
      "  at depth 1: https://fastapi.tiangolo.com/pt/benchmarks/\n",
      "  at depth 1: https://fastapi.tiangolo.com/pt/tutorial/\n",
      "  at depth 1: https://fastapi.tiangolo.com/es/advanced/\n",
      "  at depth 1: https://fastapi.tiangolo.com/pt/history-design-future/\n",
      "  at depth 1: https://fastapi.tiangolo.com/pt/features/\n",
      "  at depth 1: https://fastapi.tiangolo.com/es/tutorial/\n",
      "  at depth 1: https://fastapi.tiangolo.com/zh/deployment/\n",
      "  at depth 1: https://fastapi.tiangolo.com/zh/tutorial/\n",
      "  at depth 1: https://fastapi.tiangolo.com/zh/features/\n",
      "  at depth 1: https://fastapi.tiangolo.com/es/python-types/\n",
      "  at depth 1: https://fastapi.tiangolo.com/es/features/\n",
      "  at depth 1: https://fastapi.tiangolo.com/Nico Axtmann\n",
      "  at depth 1: https://fastapi.tiangolo.com/tutorial/application-configuration/\n",
      "  at depth 1: https://fastapi.tiangolo.com/advanced/sub-applications-proxy/\n"
     ]
    }
   ],
   "source": [
    "urls = bfs(\"https://fastapi.tiangolo.com\")"
   ]
  },
  {
   "cell_type": "code",
   "execution_count": 26,
   "id": "73d8e016",
   "metadata": {
    "scrolled": true
   },
   "outputs": [],
   "source": [
    "scrape_data = []\n",
    "for url in urls:\n",
    "    loader = WebBaseLoader(url)\n",
    "    scrape_data.append(loader.load())"
   ]
  },
  {
   "cell_type": "code",
   "execution_count": 27,
   "id": "9604b9e0",
   "metadata": {
    "scrolled": true
   },
   "outputs": [
    {
     "name": "stdout",
     "output_type": "stream",
     "text": [
      "We have 245 document(s)\n"
     ]
    }
   ],
   "source": [
    "print(f'We have {len(scrape_data)} document(s)')"
   ]
  },
  {
   "cell_type": "code",
   "execution_count": 71,
   "id": "2c00875f",
   "metadata": {
    "scrolled": true
   },
   "outputs": [],
   "source": [
    "docs = []\n",
    "text_splitter = RecursiveCharacterTextSplitter(chunk_size=1000, chunk_overlap=0)\n",
    "for data in scrape_data:\n",
    "    docs.extend(text_splitter.split_documents(data))"
   ]
  },
  {
   "cell_type": "code",
   "execution_count": 72,
   "id": "6e6771a3",
   "metadata": {
    "scrolled": true
   },
   "outputs": [
    {
     "name": "stdout",
     "output_type": "stream",
     "text": [
      "We have 4326 document(s)\n"
     ]
    }
   ],
   "source": [
    "print(f'We have {len(docs)} document(s)')"
   ]
  },
  {
   "cell_type": "code",
   "execution_count": 73,
   "id": "3c588889",
   "metadata": {},
   "outputs": [],
   "source": [
    "embeddings = OpenAIEmbeddings()"
   ]
  },
  {
   "cell_type": "code",
   "execution_count": 74,
   "id": "aaca970c",
   "metadata": {},
   "outputs": [],
   "source": [
    "db = FAISS.from_documents(docs, embeddings)"
   ]
  },
  {
   "cell_type": "code",
   "execution_count": 75,
   "id": "c367fd22",
   "metadata": {},
   "outputs": [],
   "source": [
    "llm = OpenAI(temperature=0, openai_api_key=os.environ[\"OPENAI_API_KEY\"])\n",
    "chain = load_qa_chain(llm, chain_type=\"stuff\")"
   ]
  },
  {
   "cell_type": "code",
   "execution_count": 77,
   "id": "a5cc98ab",
   "metadata": {},
   "outputs": [
    {
     "data": {
      "text/plain": [
       "' Breaking changes from 0.60.2 to 0.61.0 include breaking changes to features. Breaking changes from 0.61.0 to 0.61.2 include breaking changes to security fixes. Breaking changes from 0.62.0 to 0.63.0 include breaking changes to features and fixes. Breaking changes from 0.64.0 to 0.65.0 include breaking changes to upgrade. Breaking changes from 0.65.1 to 0.80.0 include breaking changes to fixes and security fixes. Breaking changes from 0.79.1 to 0.79.0 include breaking changes to fixes. Breaking changes from 0.78.0 to 0.77.1 include breaking changes to upgrades.'"
      ]
     },
     "execution_count": 77,
     "metadata": {},
     "output_type": "execute_result"
    }
   ],
   "source": [
    "query = \"List all the breaking changes from version to version and state what has been broken\"\n",
    "docs = db.similarity_search(query, include_metadata=True)\n",
    "chain.run(input_documents=docs, question=query)"
   ]
  }
 ],
 "metadata": {
  "kernelspec": {
   "display_name": "Python 3 (ipykernel)",
   "language": "python",
   "name": "python3"
  },
  "language_info": {
   "codemirror_mode": {
    "name": "ipython",
    "version": 3
   },
   "file_extension": ".py",
   "mimetype": "text/x-python",
   "name": "python",
   "nbconvert_exporter": "python",
   "pygments_lexer": "ipython3",
   "version": "3.8.16"
  }
 },
 "nbformat": 4,
 "nbformat_minor": 5
}
